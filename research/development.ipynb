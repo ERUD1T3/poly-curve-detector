{
 "cells": [
  {
   "cell_type": "markdown",
   "metadata": {},
   "source": [
    "# Notebook to develop the model for the project"
   ]
  },
  {
   "cell_type": "code",
   "execution_count": 48,
   "metadata": {},
   "outputs": [],
   "source": [
    "# All our imports\n",
    "import torch \n",
    "from torch import nn, optim\n",
    "import torch.nn.functional as F\n",
    "from torchvision import datasets\n",
    "import torchvision.transforms as transforms\n",
    "import matplotlib.pyplot as plt\n",
    "import numpy as np\n",
    "import pandas as pd\n",
    "from random import randint\n",
    "import PIL\n",
    "import os\n",
    "\n",
    "#for all the plots to be inline\n",
    "%matplotlib inline \n"
   ]
  },
  {
   "cell_type": "code",
   "execution_count": 49,
   "metadata": {},
   "outputs": [
    {
     "name": "stdout",
     "output_type": "stream",
     "text": [
      "cuda:0\n"
     ]
    }
   ],
   "source": [
    "class CustomDataset(torch.utils.data.Dataset):\n",
    "    def __init__(self, csv_path, images_folder, transform):\n",
    "        self.df = pd.read_csv(csv_path)\n",
    "        self.images_folder = images_folder\n",
    "        self.transform = transform\n",
    "        \n",
    "    def __len__(self):\n",
    "        return len(self.df)\n",
    "    \n",
    "    def __getitem__(self, index):\n",
    "        filename = self.df.values[index][0]\n",
    "        labels = np.array([1, 1, 1, 1, 1, 1, 1, 1])\n",
    "        for x in range(0, 8):\n",
    "            labels[x] = self.df.values[index][x+1]\n",
    "        image = PIL.Image.open(os.path.join(self.images_folder, filename))\n",
    "        if self.transform is not None:\n",
    "            image = self.transform(image)\n",
    "        return image, labels\n",
    "\n",
    "device = torch.device(\"cuda:0\" if torch.cuda.is_available() else \"cpu\")\n",
    "print(device)"
   ]
  },
  {
   "cell_type": "code",
   "execution_count": 50,
   "metadata": {},
   "outputs": [],
   "source": [
    "# device = 'cpu'"
   ]
  },
  {
   "cell_type": "code",
   "execution_count": 51,
   "metadata": {},
   "outputs": [],
   "source": [
    "'''Data Set manipulation'''\n",
    "transform = transforms.Compose([transforms.Grayscale(num_output_channels=1),\n",
    "                                transforms.ToTensor()])\n",
    "\n",
    "root = \"C:\\\\Users\\\\the_3\\\\Desktop\"\n",
    "trainDataset = CustomDataset(root + \"\\\\poly-curve-detector\\\\data\\\\plotData\\\\labels\\\\trainPlots.csv\",\n",
    "                               root + \"\\\\poly-curve-detector\\\\data\\\\plotData\\\\trainPlots\", transform)\n",
    "\n",
    "testDataset = CustomDataset(root + \"\\\\poly-curve-detector\\\\data\\\\plotData\\\\labels\\\\testPlots.csv\",\n",
    "                               root + \"\\\\poly-curve-detector\\\\data\\\\plotData\\\\testPlots\", transform)\n",
    "\n",
    "#print first label in each dataset\n",
    "#labels in order [a1,a2,a3,a4,a5,a6,a7,a8]\n",
    "# image, labels = trainDataset[0]\n",
    "# print(labels[0:9])\n",
    "# image, labels = testDataset[0]\n",
    "# print(labels[0:9])"
   ]
  },
  {
   "cell_type": "code",
   "execution_count": 52,
   "metadata": {},
   "outputs": [],
   "source": [
    "train_set = torch.utils.data.DataLoader(trainDataset, shuffle=True, batch_size=128)\n",
    "test_set = torch.utils.data.DataLoader(testDataset, shuffle=False, batch_size=128)"
   ]
  },
  {
   "cell_type": "code",
   "execution_count": 53,
   "metadata": {},
   "outputs": [
    {
     "name": "stdout",
     "output_type": "stream",
     "text": [
      "torch.Size([128, 1, 96, 96]) torch.Size([128, 8])\n",
      "Train Set 0\n",
      "Image: tensor([[[0.6745, 0.8235, 0.8235,  ..., 0.8235, 0.8235, 0.6745],\n",
      "         [0.8235, 1.0000, 1.0000,  ..., 1.0000, 1.0000, 0.8235],\n",
      "         [0.8235, 1.0000, 1.0000,  ..., 1.0000, 1.0000, 0.8235],\n",
      "         ...,\n",
      "         [0.8235, 1.0000, 1.0000,  ..., 1.0000, 1.0000, 0.8235],\n",
      "         [0.8235, 1.0000, 1.0000,  ..., 1.0000, 1.0000, 0.8235],\n",
      "         [0.6745, 0.8235, 0.8235,  ..., 0.8235, 0.8235, 0.6745]]])\n",
      "Labels: tensor([  4,   2, -10,   8,   4,   2,  10,  -3], dtype=torch.int32)\n",
      "\n",
      "torch.Size([1, 96, 96]) torch.Size([8])\n"
     ]
    },
    {
     "data": {
      "image/png": "[encoded data removed]",
      "text/plain": [
       "<Figure size 288x288 with 1 Axes>"
      ]
     },
     "metadata": {
      "needs_background": "light"
     },
     "output_type": "display_data"
    },
    {
     "name": "stdout",
     "output_type": "stream",
     "text": [
      "torch.Size([128, 1, 96, 96]) torch.Size([128, 8])\n",
      "Test Set 0\n",
      "Image: tensor([[[0.6745, 0.8235, 0.8235,  ..., 0.8235, 0.8235, 0.6745],\n",
      "         [0.8235, 1.0000, 1.0000,  ..., 1.0000, 1.0000, 0.8235],\n",
      "         [0.8235, 1.0000, 1.0000,  ..., 1.0000, 1.0000, 0.8235],\n",
      "         ...,\n",
      "         [0.8235, 1.0000, 1.0000,  ..., 1.0000, 1.0000, 0.8235],\n",
      "         [0.8235, 1.0000, 1.0000,  ..., 1.0000, 1.0000, 0.8235],\n",
      "         [0.6745, 0.8235, 0.8235,  ..., 0.8235, 0.8235, 0.6745]]])\n",
      "Labels: tensor([  5, -10,  -4,   3,  -7,   7,  -9,  -7], dtype=torch.int32)\n",
      "\n",
      "torch.Size([1, 96, 96]) torch.Size([8])\n"
     ]
    },
    {
     "data": {
      "image/png": "[encoded data removed]",
      "text/plain": [
       "<Figure size 288x288 with 1 Axes>"
      ]
     },
     "metadata": {
      "needs_background": "light"
     },
     "output_type": "display_data"
    }
   ],
   "source": [
    "#one way to see batch size\n",
    "train_batch = next(iter(train_set))\n",
    "img, lbls = train_batch\n",
    "print(img.shape, lbls.shape)\n",
    "\n",
    "#display the first image in train_set\n",
    "#note: image changes each time run because shuffle is set to true\n",
    "for images, labels in train_set:\n",
    "    image, label = images[0], labels[0]\n",
    "    print(f\"Train Set 0\\nImage: {image}\\nLabels: {label}\\n\")\n",
    "    print(image.shape, label.shape)\n",
    "    figure = plt.figure(figsize=(4,4))\n",
    "    figure.add_subplot()\n",
    "    plt.axis(\"off\")\n",
    "    plt.imshow(image.permute(1,2,0), cmap=\"gray\")\n",
    "    plt.show()\n",
    "    break\n",
    "    \n",
    "#test batch size\n",
    "test_batch = next(iter(test_set))\n",
    "img, lbls = test_batch\n",
    "print(img.shape, lbls.shape)\n",
    "\n",
    "#display the first image in test_set\n",
    "for images, labels in test_set:\n",
    "    image, label = images[0], labels[0]\n",
    "    print(f\"Test Set 0\\nImage: {image}\\nLabels: {label}\\n\")\n",
    "    print(image.shape, label.shape)\n",
    "    figure = plt.figure(figsize=(4,4))\n",
    "    figure.add_subplot()\n",
    "    plt.axis(\"off\")\n",
    "    plt.imshow(image.permute(1,2,0), cmap=\"gray\")\n",
    "    plt.show()\n",
    "    break"
   ]
  },
  {
   "cell_type": "code",
   "execution_count": 54,
   "metadata": {},
   "outputs": [],
   "source": [
    "class Network(nn.Module):\n",
    "    def __init__(self):\n",
    "        super(Network, self).__init__()\n",
    "        # more analysis required to determine the specifics of the architecture\n",
    "       \n",
    "        self.n_output = 8\n",
    "        self.n_channel = 1\n",
    "    \n",
    "        self.cnn_layers = nn.Sequential(\n",
    "        #         imageInputLayer([28 28 1])\n",
    "        #         convolution2dLayer(3,8,'Padding','same')\n",
    "                nn.Conv2d(1, 8, 3), \n",
    "        #         batchNormalizationLayer\n",
    "                nn.BatchNorm2d(8),\n",
    "        #         reluLayer\n",
    "                nn.LeakyReLU(),\n",
    "        #         averagePooling2dLayer(2,'Stride',2)\n",
    "                nn.MaxPool2d(2, 2),\n",
    "        #         convolution2dLayer(3,16,'Padding','same')\n",
    "                nn.Conv2d(8, 16, 3),\n",
    "        #         batchNormalizationLayer\n",
    "                nn.BatchNorm2d(16),\n",
    "        #         reluLayer\n",
    "                nn.LeakyReLU(),\n",
    "        #         averagePooling2dLayer(2,'Stride',2)\n",
    "                nn.MaxPool2d(2, 2),\n",
    "        #         convolution2dLayer(3,32,'Padding','same')\n",
    "                nn.Conv2d(16, 32, 3),\n",
    "        #         batchNormalizationLayer\n",
    "                nn.BatchNorm2d(32),\n",
    "        #         reluLayer\n",
    "                nn.LeakyReLU(),\n",
    "        #         convolution2dLayer(3,32,'Padding','same')\n",
    "                nn.Conv2d(32, 32, 3),\n",
    "        #         batchNormalizationLayer\n",
    "                nn.BatchNorm2d(32),\n",
    "        #         reluLayer\n",
    "                nn.LeakyReLU(),\n",
    "        #         Max pooling layer\n",
    "                nn.MaxPool2d(2, 2)\n",
    "        )\n",
    "\n",
    "        self.n_input = 2592 # the output of maxpool 96*96 \n",
    "        #TODO:actual value might be determined from the computed output of the cnn layers\n",
    "        # https://pytorch.org/docs/stable/generated/torch.nn.Conv2d.html\n",
    "\n",
    "        self.fc_layers = nn.Sequential(\n",
    "#         fullyConnectedLayer(1)\n",
    "                nn.Linear(self.n_input,  1024),\n",
    "                nn.LeakyReLU(),\n",
    "                nn.Linear(1024, 256),\n",
    "                nn.LeakyReLU(),\n",
    "                nn.Linear(256, 64),\n",
    "                nn.LeakyReLU(),\n",
    "                nn.Linear(64, self.n_output),\n",
    "                nn.LeakyReLU()\n",
    "        )\n",
    "\n",
    "\n",
    "#         regressionLayer\n",
    "        self.criterion = nn.MSELoss()       \n",
    "#         dropoutLayer(0.2)\n",
    "        self.dropout =  nn.Dropout(p=0.2)\n",
    "        \n",
    "\n",
    "        \n",
    "    def forward(self, x):\n",
    "        #feedword pass through our network\n",
    "        x = self.cnn_layers(x)\n",
    "        x = x.view(x.shape[0], -1) #flatten the input tensor\n",
    "        x = self.fc_layers(x)\n",
    "        \n",
    "        return x\n",
    "\n",
    "\n",
    "    @staticmethod\n",
    "    def load_checkpoint(new_model, filepath):\n",
    "        checkpoint = torch.load(filepath)\n",
    "        # model = Network(\n",
    "        #         checkpoint['input_size'], \n",
    "        #         checkpoint['output_size'],\n",
    "        #         # checkpoint['cnn_layers'],\n",
    "        #         # checkpoint['fc_layers']\n",
    "        # )\n",
    "        new_model.load_state_dict(checkpoint['state_dict'])\n",
    "        return new_model\n",
    "    \n",
    "    def save(self, dirpath):\n",
    "        self.checkpoint = {\n",
    "        #     'input_size': self.n_input, \n",
    "        #     'output_size': self.n_output,\n",
    "        #     'cnn_layers': [each. for each in model.cnn_layers],\n",
    "        #     'fc_layers': [each.out_features for each in model.fc_layers],\n",
    "            'state_dict': model.state_dict()\n",
    "        }\n",
    "        torch.save(self.checkpoint, f'{dirpath}\\\\model_checkpoint.pth')\n",
    "    \n"
   ]
  },
  {
   "cell_type": "code",
   "execution_count": 55,
   "metadata": {},
   "outputs": [],
   "source": [
    "    \n",
    "def validation(model, testloader, criterion):\n",
    "    accuracy = 0\n",
    "    test_loss = 0\n",
    "    for images, labels in testloader:\n",
    "        # if(labels.shape != torch.Size([128, 1, 96, 96])): continue\n",
    "        # images = images.view(images.shape[0], -1)\n",
    "        labels = labels.float()\n",
    "        images, labels = images.to(device), labels.to(device)\n",
    "\n",
    "        output = model.forward(images)\n",
    "\n",
    "        # print(f'output={output.shape}')\n",
    "        # print(f'label={labels.shape}')\n",
    "        test_loss += criterion(output, labels)\n",
    "\n",
    "        # Calculate accuracy\n",
    "        # ps = torch.exp(output)\n",
    "        # top_p, top_class = ps.topk(1, dim=1)\n",
    "        # equals = top_class == labels.view(*top_class.shape)\n",
    "        # accuracy += torch.mean(equals.type(torch.FloatTensor)).item()\n",
    "        # accuracy += 1 - test_loss\n",
    "        ## Calculating the accuracy \n",
    "        # Model's output is log-softmax, take exponential to get the probabilities\n",
    "        # ps = torch.exp(output)\n",
    "        # Class with highest probability is our predicted class, compare with true label\n",
    "        # equality = (labels.data == ps.max(1)[1])\n",
    "        # Accuracy is number of correct predictions divided by all predictions, just take the mean\n",
    "        # accuracy += equality.type_as(torch.FloatTensor()).mean()\n",
    "        # accuracy = r2_score(labels, output)   # r2_score is the scikit learn r2 score function.\n",
    "        # print(\"accuracy = \", accuracy)   # here i get wierd values and it doesn't get better over time, in contrast the loss decreased over time\n",
    "\n",
    "    return test_loss, accuracy\n",
    "\n",
    "\n",
    "def train(model, trainloader, testloader, criterion, optimizer, epochs=5, print_every=40):\n",
    "\n",
    "    steps = 0\n",
    "    running_loss = 0\n",
    "    test_losses = []\n",
    "    train_losses = []\n",
    "    for e in range(epochs):\n",
    "        # Model in training mode, dropout is on\n",
    "        model.train()\n",
    "        for images, labels in trainloader:\n",
    "            steps += 1\n",
    "            # if(labels.shape != torch.Size([128, 1, 96, 96])): continue\n",
    "            # Flatten images into a 784 long vector\n",
    "            # images = images.view(images.shape[0], -1)\n",
    "            labels = labels.float()\n",
    "            images, labels = images.to(device), labels.to(device)\n",
    "            optimizer.zero_grad()\n",
    "            \n",
    "            output = model.forward(images)\n",
    "            # print(f'output={output.shape}')\n",
    "            # print(f'label={labels.shape}')\n",
    "            loss = criterion(output, labels)\n",
    "            loss.backward() # computes gradient and backpropagation\n",
    "            optimizer.step() # update of weights and biases happenss\n",
    "            \n",
    "            running_loss += loss.item()\n",
    "\n",
    "            if steps % print_every == 0:\n",
    "                # Model in inference mode, dropout is off\n",
    "                model.eval()\n",
    "                \n",
    "                # Turn off gradients for validation, will speed up inference\n",
    "                with torch.no_grad():\n",
    "                    test_loss, accuracy = validation(model, testloader, criterion)\n",
    "                \n",
    "                train_losses.append(running_loss/len(trainloader))\n",
    "                test_losses.append(test_loss/len(testloader))\n",
    "\n",
    "                print(\"Epoch: {}/{}.. \".format(e+1, epochs),\n",
    "                      \"Training Loss: {:.3f}.. \".format(running_loss/print_every),\n",
    "                      \"Test Loss: {:.3f}.. \".format(test_loss/len(testloader)),\n",
    "                    #   \"Test Accuracy: {:.3f}\".format(accuracy/len(testloader))\n",
    "                      )\n",
    "                \n",
    "                running_loss = 0\n",
    "                \n",
    "                # Make sure dropout and grads are on for training\n",
    "                model.train()\n",
    "                \n",
    "    plt.plot(train_losses, label='Training loss')\n",
    "    plt.plot(test_losses, label='Validation loss')\n",
    "    plt.legend(frameon=False)"
   ]
  },
  {
   "cell_type": "code",
   "execution_count": 56,
   "metadata": {},
   "outputs": [],
   "source": [
    "# model = Network()\n",
    "# optimizer = optim.Adam(model.parameters(), lr=0.005)\n",
    "\n",
    "# output = model.forward(img)\n",
    "# print(output)\n",
    "# print(lbls)"
   ]
  },
  {
   "cell_type": "code",
   "execution_count": 57,
   "metadata": {},
   "outputs": [],
   "source": [
    "# print(output.shape)\n",
    "# output[0,]"
   ]
  },
  {
   "cell_type": "code",
   "execution_count": 58,
   "metadata": {},
   "outputs": [],
   "source": [
    "# DONE A: Train model on the data set\n",
    "    # DONE 1: dataloader be able load (image: tensor, label:string) example of the label tensor([10,-4,-5,3,-2,-3,-2,2]) \n",
    "    # DONE 2: fix dimensionality so the net can feedforward a batch of images correctly, move the training to gpu when available\n",
    "    # DONE 3: make trainloader and testloader dataloaders\n",
    "# TODO B: Improve model\n",
    "    # DONE 4: update checkpoint structure to save model and load model\n",
    "    # DONE 5: use better graphics to display the results (Josias)\n",
    "    #TODO 6: add a grid to the input like YOLO (hold)\n",
    "    #TODO 7: Build a list of ideas to improve the nework (Brandon and Josias)\n",
    "    #DONE 8: Find out if cnn layers learn (Josias)\n",
    "    #TODO 9: Fix the testloader issue where 8 size expected but found 96 (Brandon)"
   ]
  },
  {
   "cell_type": "code",
   "execution_count": 59,
   "metadata": {},
   "outputs": [
    {
     "name": "stdout",
     "output_type": "stream",
     "text": [
      "Epoch: 2/50..  Training Loss: 38.497..  Test Loss: 36.698.. \n",
      "Epoch: 3/50..  Training Loss: 36.432..  Test Loss: 38.161.. \n",
      "Epoch: 4/50..  Training Loss: 37.415..  Test Loss: 36.882.. \n",
      "Epoch: 5/50..  Training Loss: 36.281..  Test Loss: 36.730.. \n",
      "Epoch: 6/50..  Training Loss: 35.440..  Test Loss: 35.151.. \n",
      "Epoch: 7/50..  Training Loss: 34.635..  Test Loss: 34.411.. \n",
      "Epoch: 8/50..  Training Loss: 33.379..  Test Loss: 32.850.. \n",
      "Epoch: 9/50..  Training Loss: 32.407..  Test Loss: 32.187.. \n",
      "Epoch: 10/50..  Training Loss: 31.053..  Test Loss: 31.473.. \n",
      "Epoch: 12/50..  Training Loss: 30.471..  Test Loss: 31.119.. \n",
      "Epoch: 13/50..  Training Loss: 29.371..  Test Loss: 31.244.. \n",
      "Epoch: 14/50..  Training Loss: 29.262..  Test Loss: 31.053.. \n",
      "Epoch: 15/50..  Training Loss: 28.066..  Test Loss: 33.863.. \n",
      "Epoch: 16/50..  Training Loss: 28.058..  Test Loss: 29.469.. \n",
      "Epoch: 17/50..  Training Loss: 27.333..  Test Loss: 32.042.. \n",
      "Epoch: 18/50..  Training Loss: 27.850..  Test Loss: 29.810.. \n",
      "Epoch: 19/50..  Training Loss: 27.128..  Test Loss: 29.176.. \n",
      "Epoch: 20/50..  Training Loss: 26.801..  Test Loss: 29.282.. \n",
      "Epoch: 22/50..  Training Loss: 26.237..  Test Loss: 27.271.. \n",
      "Epoch: 23/50..  Training Loss: 26.417..  Test Loss: 28.164.. \n",
      "Epoch: 24/50..  Training Loss: 26.548..  Test Loss: 27.712.. \n",
      "Epoch: 25/50..  Training Loss: 26.048..  Test Loss: 30.162.. \n",
      "Epoch: 26/50..  Training Loss: 25.336..  Test Loss: 27.447.. \n",
      "Epoch: 27/50..  Training Loss: 25.074..  Test Loss: 26.908.. \n",
      "Epoch: 28/50..  Training Loss: 24.749..  Test Loss: 26.527.. \n",
      "Epoch: 29/50..  Training Loss: 24.537..  Test Loss: 26.122.. \n",
      "Epoch: 30/50..  Training Loss: 24.207..  Test Loss: 27.224.. \n",
      "Epoch: 32/50..  Training Loss: 25.413..  Test Loss: 28.179.. \n",
      "Epoch: 33/50..  Training Loss: 24.860..  Test Loss: 26.938.. \n",
      "Epoch: 34/50..  Training Loss: 24.566..  Test Loss: 27.220.. \n",
      "Epoch: 35/50..  Training Loss: 23.817..  Test Loss: 25.615.. \n",
      "Epoch: 36/50..  Training Loss: 23.685..  Test Loss: 25.396.. \n",
      "Epoch: 37/50..  Training Loss: 23.127..  Test Loss: 26.763.. \n",
      "Epoch: 38/50..  Training Loss: 23.049..  Test Loss: 27.098.. \n",
      "Epoch: 39/50..  Training Loss: 22.394..  Test Loss: 25.190.. \n",
      "Epoch: 40/50..  Training Loss: 21.723..  Test Loss: 25.496.. \n",
      "Epoch: 42/50..  Training Loss: 22.227..  Test Loss: 25.106.. \n",
      "Epoch: 43/50..  Training Loss: 22.329..  Test Loss: 28.133.. \n",
      "Epoch: 44/50..  Training Loss: 22.260..  Test Loss: 25.313.. \n",
      "Epoch: 45/50..  Training Loss: 22.097..  Test Loss: 25.591.. \n",
      "Epoch: 46/50..  Training Loss: 21.626..  Test Loss: 24.928.. \n",
      "Epoch: 47/50..  Training Loss: 21.315..  Test Loss: 26.809.. \n",
      "Epoch: 48/50..  Training Loss: 21.778..  Test Loss: 26.613.. \n",
      "Epoch: 49/50..  Training Loss: 22.315..  Test Loss: 28.429.. \n",
      "Epoch: 50/50..  Training Loss: 21.397..  Test Loss: 24.716.. \n"
     ]
    },
    {
     "data": {
      "image/png": "[encoded data removed]",
      "text/plain": [
       "<Figure size 432x288 with 1 Axes>"
      ]
     },
     "metadata": {
      "needs_background": "light"
     },
     "output_type": "display_data"
    }
   ],
   "source": [
    "model = Network()\n",
    "optimizer = optim.Adam(model.parameters(), lr=0.005)\n",
    "\n",
    "model.to(device)\n",
    "\n",
    "train(\n",
    "    model=model, \n",
    "    trainloader=train_set, \n",
    "    testloader=test_set, \n",
    "    criterion=model.criterion, \n",
    "    optimizer=optimizer, \n",
    "    epochs=50, \n",
    "    print_every=10)\n"
   ]
  },
  {
   "cell_type": "code",
   "execution_count": 60,
   "metadata": {},
   "outputs": [
    {
     "name": "stdout",
     "output_type": "stream",
     "text": [
      "tensor([[-2.9188e-03, -1.0318e+01, -2.5205e+00,  ..., -4.0270e-01,\n",
      "         -6.3425e+00, -4.6076e-01],\n",
      "        [-5.8994e+00, -1.3170e+00, -1.3576e+00,  ..., -2.4494e+00,\n",
      "         -6.4682e-01, -6.3323e+00],\n",
      "        [-6.6151e-02,  9.4769e+00,  1.3831e+00,  ..., -8.9290e-01,\n",
      "         -1.8079e-01, -2.6459e+00],\n",
      "        ...,\n",
      "        [ 4.1966e+00,  5.2860e+00, -5.1674e-02,  ..., -2.2283e-01,\n",
      "         -2.2618e-01, -7.1484e-01],\n",
      "        [-7.2576e+00, -1.3206e+00, -1.9953e+00,  ..., -2.2589e+00,\n",
      "         -9.6927e-01, -5.5885e+00],\n",
      "        [ 7.2900e+00, -1.3182e+00, -6.4693e-02,  ...,  2.0132e+00,\n",
      "         -1.7100e-01,  7.1618e+00]], device='cuda:0',\n",
      "       grad_fn=<LeakyReluBackward0>)\n",
      "tensor([[  5, -10,  -4,  ...,   7,  -9,  -7],\n",
      "        [ -5,  -2,  -6,  ...,  -4,   8,  -9],\n",
      "        [ -9,   9,   0,  ...,  -8,   6, -10],\n",
      "        ...,\n",
      "        [  2,   4,   3,  ...,   9, -10,  -1],\n",
      "        [-10,   0,  -5,  ...,   4,  -8, -10],\n",
      "        [  8,  -1,  -5,  ...,   8,  -4,   3]], device='cuda:0',\n",
      "       dtype=torch.int32)\n"
     ]
    }
   ],
   "source": [
    "test_batch = next(iter(test_set))\n",
    "img, lbls = test_batch\n",
    "img, lbls = img.to(device), lbls.to(device)\n",
    "# print(img.shape, lbls.shape)\n",
    "\n",
    "output = model.forward(img)\n",
    "print(output)\n",
    "print(lbls)"
   ]
  },
  {
   "cell_type": "code",
   "execution_count": 61,
   "metadata": {},
   "outputs": [],
   "source": [
    "model.save('C:\\\\Users\\\\the_3\\\\Desktop\\\\poly-curve-detector\\\\Model')"
   ]
  },
  {
   "cell_type": "code",
   "execution_count": 62,
   "metadata": {},
   "outputs": [
    {
     "data": {
      "text/plain": [
       "Network(\n",
       "  (cnn_layers): Sequential(\n",
       "    (0): Conv2d(1, 8, kernel_size=(3, 3), stride=(1, 1))\n",
       "    (1): BatchNorm2d(8, eps=1e-05, momentum=0.1, affine=True, track_running_stats=True)\n",
       "    (2): LeakyReLU(negative_slope=0.01)\n",
       "    (3): MaxPool2d(kernel_size=2, stride=2, padding=0, dilation=1, ceil_mode=False)\n",
       "    (4): Conv2d(8, 16, kernel_size=(3, 3), stride=(1, 1))\n",
       "    (5): BatchNorm2d(16, eps=1e-05, momentum=0.1, affine=True, track_running_stats=True)\n",
       "    (6): LeakyReLU(negative_slope=0.01)\n",
       "    (7): MaxPool2d(kernel_size=2, stride=2, padding=0, dilation=1, ceil_mode=False)\n",
       "    (8): Conv2d(16, 32, kernel_size=(3, 3), stride=(1, 1))\n",
       "    (9): BatchNorm2d(32, eps=1e-05, momentum=0.1, affine=True, track_running_stats=True)\n",
       "    (10): LeakyReLU(negative_slope=0.01)\n",
       "    (11): Conv2d(32, 32, kernel_size=(3, 3), stride=(1, 1))\n",
       "    (12): BatchNorm2d(32, eps=1e-05, momentum=0.1, affine=True, track_running_stats=True)\n",
       "    (13): LeakyReLU(negative_slope=0.01)\n",
       "    (14): MaxPool2d(kernel_size=2, stride=2, padding=0, dilation=1, ceil_mode=False)\n",
       "  )\n",
       "  (fc_layers): Sequential(\n",
       "    (0): Linear(in_features=2592, out_features=1024, bias=True)\n",
       "    (1): LeakyReLU(negative_slope=0.01)\n",
       "    (2): Linear(in_features=1024, out_features=256, bias=True)\n",
       "    (3): LeakyReLU(negative_slope=0.01)\n",
       "    (4): Linear(in_features=256, out_features=64, bias=True)\n",
       "    (5): LeakyReLU(negative_slope=0.01)\n",
       "    (6): Linear(in_features=64, out_features=8, bias=True)\n",
       "    (7): LeakyReLU(negative_slope=0.01)\n",
       "  )\n",
       "  (criterion): MSELoss()\n",
       "  (dropout): Dropout(p=0.2, inplace=False)\n",
       ")"
      ]
     },
     "execution_count": 62,
     "metadata": {},
     "output_type": "execute_result"
    }
   ],
   "source": [
    "new_model = Network()\n",
    "Network.load_checkpoint(new_model, \"C:\\\\Users\\\\the_3\\\\Desktop\\\\poly-curve-detector\\\\Model\\\\model_checkpoint.pth\")"
   ]
  },
  {
   "cell_type": "code",
   "execution_count": 63,
   "metadata": {},
   "outputs": [
    {
     "name": "stdout",
     "output_type": "stream",
     "text": [
      "tensor([[-2.9186e-03, -1.0318e+01, -2.5205e+00,  ..., -4.0270e-01,\n",
      "         -6.3425e+00, -4.6076e-01],\n",
      "        [-5.8994e+00, -1.3170e+00, -1.3576e+00,  ..., -2.4494e+00,\n",
      "         -6.4682e-01, -6.3323e+00],\n",
      "        [-6.6151e-02,  9.4769e+00,  1.3831e+00,  ..., -8.9290e-01,\n",
      "         -1.8079e-01, -2.6459e+00],\n",
      "        ...,\n",
      "        [ 4.1966e+00,  5.2859e+00, -5.1674e-02,  ..., -2.2283e-01,\n",
      "         -2.2618e-01, -7.1484e-01],\n",
      "        [-7.2576e+00, -1.3206e+00, -1.9953e+00,  ..., -2.2589e+00,\n",
      "         -9.6927e-01, -5.5885e+00],\n",
      "        [ 7.2900e+00, -1.3182e+00, -6.4693e-02,  ...,  2.0132e+00,\n",
      "         -1.7100e-01,  7.1618e+00]], grad_fn=<LeakyReluBackward0>)\n",
      "tensor([[  5, -10,  -4,  ...,   7,  -9,  -7],\n",
      "        [ -5,  -2,  -6,  ...,  -4,   8,  -9],\n",
      "        [ -9,   9,   0,  ...,  -8,   6, -10],\n",
      "        ...,\n",
      "        [  2,   4,   3,  ...,   9, -10,  -1],\n",
      "        [-10,   0,  -5,  ...,   4,  -8, -10],\n",
      "        [  8,  -1,  -5,  ...,   8,  -4,   3]], dtype=torch.int32)\n"
     ]
    }
   ],
   "source": [
    "test_batch = next(iter(test_set))\n",
    "img, lbls = test_batch\n",
    "# img, lbls = img.to(device), lbls.to(device)\n",
    "# print(img.shape, lbls.shape)\n",
    "\n",
    "output = new_model.forward(img)\n",
    "print(output)\n",
    "print(lbls)"
   ]
  }
 ],
 "metadata": {
  "interpreter": {
   "hash": "3a1829a56db40c3ca63cc5d173ccaf89ee3791672440d362287656aaeb413643"
  },
  "kernelspec": {
   "display_name": "Python 3.8.5 64-bit (conda)",
   "name": "python3"
  },
  "language_info": {
   "codemirror_mode": {
    "name": "ipython",
    "version": 3
   },
   "file_extension": ".py",
   "mimetype": "text/x-python",
   "name": "python",
   "nbconvert_exporter": "python",
   "pygments_lexer": "ipython3",
   "version": "3.8.5"
  }
 },
 "nbformat": 4,
 "nbformat_minor": 4
}
