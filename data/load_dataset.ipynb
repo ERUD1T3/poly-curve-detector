{
 "cells": [
  {
   "cell_type": "markdown",
   "id": "9e4169af",
   "metadata": {},
   "source": [
    "# Load Images Into a Dataset Using ImageFolder"
   ]
  },
  {
   "cell_type": "markdown",
   "id": "dcbd03cd",
   "metadata": {},
   "source": [
    "# Version 2"
   ]
  },
  {
   "cell_type": "code",
   "execution_count": 6,
   "id": "a6021216",
   "metadata": {},
   "outputs": [],
   "source": [
    "import torch\n",
    "from torchvision import datasets\n",
    "import torchvision.transforms as transforms\n",
    "import matplotlib.pyplot as plt\n",
    "import pandas as pd\n",
    "import PIL\n",
    "import os\n",
    "import numpy as np\n",
    "\n",
    "class CustomDataset(torch.utils.data.Dataset):\n",
    "    def __init__(self, csv_path, images_folder, transform):\n",
    "        self.df = pd.read_csv(csv_path)\n",
    "        self.images_folder = images_folder\n",
    "        self.transform = transform\n",
    "        \n",
    "    def __len__(self):\n",
    "        return len(self.df)\n",
    "    \n",
    "    def __getitem__(self, index):\n",
    "        filename = self.df.values[index][0]\n",
    "        labels = np.array([1, 1, 1, 1, 1, 1, 1, 1])\n",
    "        for x in range(0, 8):\n",
    "            labels[x] = self.df.values[index][x+1]\n",
    "        image = PIL.Image.open(os.path.join(self.images_folder, filename))\n",
    "        if self.transform is not None:\n",
    "            image = self.transform(image)\n",
    "        return image, labels"
   ]
  },
  {
   "cell_type": "code",
   "execution_count": 7,
   "id": "d6137b56",
   "metadata": {},
   "outputs": [
    {
     "name": "stdout",
     "output_type": "stream",
     "text": [
      "[ 2 -2 -2  9 -9  0 -2  0]\n",
      "[-5  8  4  4  2 -8 -9 -5]\n"
     ]
    }
   ],
   "source": [
    "transform = transforms.Compose([transforms.Grayscale(num_output_channels=1),\n",
    "                                transforms.ToTensor()])\n",
    "\n",
    "root = \"/home/erud1t3/Desktop\"\n",
    "\n",
    "trainDataset = CustomDataset(\n",
    "    root + \"/poly-curve-detector/data/plotData/labels/trainPlots.csv\",\n",
    "    root + \"/poly-curve-detector/data/plotData/trainPlots\", \n",
    "    transform)\n",
    "\n",
    "testDataset = CustomDataset(\n",
    "    root + \"/poly-curve-detector/data/plotData/labels/testPlots.csv\",\n",
    "    root + \"/poly-curve-detector/data/plotData/testPlots\", \n",
    "    transform)\n",
    "\n",
    "#print first label in each dataset\n",
    "#labels in order [a1, a2, a3, a4, a5, a6, a7, a8]\n",
    "image, labels = trainDataset[0]\n",
    "print(labels[0:9])\n",
    "image, labels = testDataset[0]\n",
    "print(labels[0:9])"
   ]
  },
  {
   "cell_type": "code",
   "execution_count": 8,
   "id": "bb39b1a7",
   "metadata": {},
   "outputs": [],
   "source": [
    "train_set = torch.utils.data.DataLoader(trainDataset, shuffle=True, batch_size=128)\n",
    "test_set = torch.utils.data.DataLoader(testDataset, shuffle=False, batch_size=128)"
   ]
  },
  {
   "cell_type": "markdown",
   "id": "acd8e1bf",
   "metadata": {},
   "source": [
    "### Select the First Image Loaded Into Each Dataset and Display to Verify"
   ]
  },
  {
   "cell_type": "code",
   "execution_count": 9,
   "id": "bb78ec10",
   "metadata": {
    "scrolled": false
   },
   "outputs": [
    {
     "name": "stdout",
     "output_type": "stream",
     "text": [
      "torch.Size([128, 1, 96, 96]) torch.Size([128, 8])\n",
      "Train Set 0\n",
      "Image: tensor([[[0.6745, 0.8235, 0.8235,  ..., 0.8235, 0.8235, 0.6745],\n",
      "         [0.8235, 1.0000, 1.0000,  ..., 1.0000, 1.0000, 0.8235],\n",
      "         [0.8235, 1.0000, 1.0000,  ..., 1.0000, 1.0000, 0.8235],\n",
      "         ...,\n",
      "         [0.8235, 1.0000, 1.0000,  ..., 1.0000, 1.0000, 0.8235],\n",
      "         [0.8235, 1.0000, 1.0000,  ..., 1.0000, 1.0000, 0.8235],\n",
      "         [0.6745, 0.8235, 0.8235,  ..., 0.8235, 0.8235, 0.6745]]])\n",
      "Labels: tensor([-2, -1,  6, -7, -7, -2, -8,  2])\n",
      "\n",
      "torch.Size([1, 96, 96]) torch.Size([8])\n"
     ]
    },
    {
     "data": {
      "image/png": "[encoded data removed]",
      "text/plain": [
       "<Figure size 288x288 with 1 Axes>"
      ]
     },
     "metadata": {
      "needs_background": "light"
     },
     "output_type": "display_data"
    },
    {
     "name": "stdout",
     "output_type": "stream",
     "text": [
      "torch.Size([128, 1, 96, 96]) torch.Size([128, 8])\n",
      "Test Set 0\n",
      "Image: tensor([[[0.6745, 0.8235, 0.8235,  ..., 0.8235, 0.8235, 0.6745],\n",
      "         [0.8235, 1.0000, 1.0000,  ..., 1.0000, 1.0000, 0.8235],\n",
      "         [0.8235, 1.0000, 1.0000,  ..., 1.0000, 1.0000, 0.8235],\n",
      "         ...,\n",
      "         [0.8235, 1.0000, 1.0000,  ..., 1.0000, 1.0000, 0.8235],\n",
      "         [0.8235, 1.0000, 1.0000,  ..., 1.0000, 1.0000, 0.8235],\n",
      "         [0.6745, 0.8235, 0.8235,  ..., 0.8235, 0.8235, 0.6745]]])\n",
      "Labels: tensor([-5,  8,  4,  4,  2, -8, -9, -5])\n",
      "\n",
      "torch.Size([1, 96, 96]) torch.Size([8])\n"
     ]
    },
    {
     "data": {
      "image/png": "[encoded data removed]",
      "text/plain": [
       "<Figure size 288x288 with 1 Axes>"
      ]
     },
     "metadata": {
      "needs_background": "light"
     },
     "output_type": "display_data"
    }
   ],
   "source": [
    "#one way to see batch size\n",
    "train_batch = next(iter(train_set))\n",
    "train_img, train_lbls = train_batch\n",
    "print(train_img.shape, train_lbls.shape)\n",
    "\n",
    "#display the first image in train_set\n",
    "#note: image changes each time run because shuffle is set to true\n",
    "for train_images, train_labels in train_set:\n",
    "    image0 = train_images[0]\n",
    "    label0 = train_labels[0]\n",
    "    print(f\"Train Set 0\\nImage: {image0}\\nLabels: {label0}\\n\")\n",
    "    print(image0.shape, label0.shape)\n",
    "    figure = plt.figure(figsize=(4,4))\n",
    "    figure.add_subplot()\n",
    "    plt.axis(\"off\")\n",
    "    plt.imshow(image.permute(1,2,0), cmap=\"gray\")\n",
    "    plt.show()\n",
    "    \n",
    "    break\n",
    "    \n",
    "#test batch size\n",
    "test_batch = next(iter(test_set))\n",
    "test_img, test_lbls = test_batch\n",
    "print(test_img.shape, test_lbls.shape)\n",
    "\n",
    "#display the first image in test_set\n",
    "for test_images, test_labels in test_set:\n",
    "    image1 = test_images[0]\n",
    "    label1 = test_labels[0]\n",
    "    print(f\"Test Set 0\\nImage: {image1}\\nLabels: {label1}\\n\")\n",
    "    print(image1.shape, label1.shape)\n",
    "    figure = plt.figure(figsize=(4,4))\n",
    "    figure.add_subplot()\n",
    "    plt.axis(\"off\")\n",
    "    plt.imshow(image.permute(1,2,0), cmap=\"gray\")\n",
    "    plt.show()\n",
    "    \n",
    "    break\n"
   ]
  },
  {
   "cell_type": "code",
   "execution_count": null,
   "id": "b87b036f",
   "metadata": {},
   "outputs": [],
   "source": []
  }
 ],
 "metadata": {
  "interpreter": {
   "hash": "3a1829a56db40c3ca63cc5d173ccaf89ee3791672440d362287656aaeb413643"
  },
  "kernelspec": {
   "display_name": "Python 3.8.5 64-bit (conda)",
   "name": "python3"
  },
  "language_info": {
   "codemirror_mode": {
    "name": "ipython",
    "version": 3
   },
   "file_extension": ".py",
   "mimetype": "text/x-python",
   "name": "python",
   "nbconvert_exporter": "python",
   "pygments_lexer": "ipython3",
   "version": "3.9.7"
  }
 },
 "nbformat": 4,
 "nbformat_minor": 5
}
